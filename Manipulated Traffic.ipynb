{
 "cells": [
  {
   "cell_type": "code",
   "execution_count": 1,
   "id": "58ab14b2",
   "metadata": {},
   "outputs": [],
   "source": [
    "import pandas as pd\n"
   ]
  },
  {
   "cell_type": "code",
   "execution_count": 2,
   "id": "ffb6bd02",
   "metadata": {},
   "outputs": [],
   "source": [
    "keralaStory = pd.read_csv('complete.csv',index_col = 0)"
   ]
  },
  {
   "cell_type": "code",
   "execution_count": 3,
   "id": "0b0f7459",
   "metadata": {},
   "outputs": [
    {
     "data": {
      "text/html": [
       "<div>\n",
       "<style scoped>\n",
       "    .dataframe tbody tr th:only-of-type {\n",
       "        vertical-align: middle;\n",
       "    }\n",
       "\n",
       "    .dataframe tbody tr th {\n",
       "        vertical-align: top;\n",
       "    }\n",
       "\n",
       "    .dataframe thead th {\n",
       "        text-align: right;\n",
       "    }\n",
       "</style>\n",
       "<table border=\"1\" class=\"dataframe\">\n",
       "  <thead>\n",
       "    <tr style=\"text-align: right;\">\n",
       "      <th></th>\n",
       "      <th>Datetime</th>\n",
       "      <th>Tweet Id</th>\n",
       "      <th>Text</th>\n",
       "      <th>Username</th>\n",
       "      <th>retweetCount</th>\n",
       "      <th>likeCount</th>\n",
       "      <th>quoteCount</th>\n",
       "      <th>coordinates</th>\n",
       "      <th>mentionedUsers</th>\n",
       "      <th>retweetedTweet</th>\n",
       "      <th>hashtags</th>\n",
       "      <th>viewCount</th>\n",
       "      <th>TweetID</th>\n",
       "    </tr>\n",
       "    <tr>\n",
       "      <th>Source.Name</th>\n",
       "      <th></th>\n",
       "      <th></th>\n",
       "      <th></th>\n",
       "      <th></th>\n",
       "      <th></th>\n",
       "      <th></th>\n",
       "      <th></th>\n",
       "      <th></th>\n",
       "      <th></th>\n",
       "      <th></th>\n",
       "      <th></th>\n",
       "      <th></th>\n",
       "      <th></th>\n",
       "    </tr>\n",
       "  </thead>\n",
       "  <tbody>\n",
       "    <tr>\n",
       "      <th>April25.csv</th>\n",
       "      <td>25/04/2023 19:24</td>\n",
       "      <td>1.650000e+18</td>\n",
       "      <td>#TheKerlaStory</td>\n",
       "      <td>SArDArDCPATEL</td>\n",
       "      <td>0</td>\n",
       "      <td>4</td>\n",
       "      <td>0</td>\n",
       "      <td>NaN</td>\n",
       "      <td>NaN</td>\n",
       "      <td>NaN</td>\n",
       "      <td>['TheKerlaStory']</td>\n",
       "      <td>191.0</td>\n",
       "      <td>1.650000e+18</td>\n",
       "    </tr>\n",
       "    <tr>\n",
       "      <th>April26.csv</th>\n",
       "      <td>26/04/2023 19:19</td>\n",
       "      <td>1.650000e+18</td>\n",
       "      <td>Just Watched The Trailer of #Thekerlastory 😬\\n...</td>\n",
       "      <td>HaqSeReview</td>\n",
       "      <td>9</td>\n",
       "      <td>41</td>\n",
       "      <td>0</td>\n",
       "      <td>NaN</td>\n",
       "      <td>[User(username='adah_sharma', id=295714480, di...</td>\n",
       "      <td>NaN</td>\n",
       "      <td>['Thekerlastory']</td>\n",
       "      <td>1972.0</td>\n",
       "      <td>1.650000e+18</td>\n",
       "    </tr>\n",
       "    <tr>\n",
       "      <th>April26.csv</th>\n",
       "      <td>26/04/2023 19:14</td>\n",
       "      <td>1.650000e+18</td>\n",
       "      <td>@Starboy2079 #mustwatcgthekerlastory #Thekerla...</td>\n",
       "      <td>Saurabh317m</td>\n",
       "      <td>0</td>\n",
       "      <td>0</td>\n",
       "      <td>0</td>\n",
       "      <td>NaN</td>\n",
       "      <td>[User(username='Starboy2079', id=1515651214200...</td>\n",
       "      <td>NaN</td>\n",
       "      <td>['mustwatcgthekerlastory', 'Thekerlastory']</td>\n",
       "      <td>1270.0</td>\n",
       "      <td>1.650000e+18</td>\n",
       "    </tr>\n",
       "    <tr>\n",
       "      <th>April26.csv</th>\n",
       "      <td>26/04/2023 19:11</td>\n",
       "      <td>1.650000e+18</td>\n",
       "      <td>#Thekerlastory 👍🏻👍🏻🩷🩷</td>\n",
       "      <td>AryanSh31941116</td>\n",
       "      <td>0</td>\n",
       "      <td>0</td>\n",
       "      <td>0</td>\n",
       "      <td>NaN</td>\n",
       "      <td>NaN</td>\n",
       "      <td>NaN</td>\n",
       "      <td>['Thekerlastory']</td>\n",
       "      <td>105.0</td>\n",
       "      <td>1.650000e+18</td>\n",
       "    </tr>\n",
       "    <tr>\n",
       "      <th>April26.csv</th>\n",
       "      <td>26/04/2023 18:19</td>\n",
       "      <td>1.650000e+18</td>\n",
       "      <td>#TheKerlaStory @ARanganathan72\\nhttps://t.co/5...</td>\n",
       "      <td>Rabindra_Sun</td>\n",
       "      <td>0</td>\n",
       "      <td>0</td>\n",
       "      <td>0</td>\n",
       "      <td>NaN</td>\n",
       "      <td>[User(username='ARanganathan72', id=1344897174...</td>\n",
       "      <td>NaN</td>\n",
       "      <td>['TheKerlaStory']</td>\n",
       "      <td>167.0</td>\n",
       "      <td>1.650000e+18</td>\n",
       "    </tr>\n",
       "  </tbody>\n",
       "</table>\n",
       "</div>"
      ],
      "text/plain": [
       "                     Datetime      Tweet Id  \\\n",
       "Source.Name                                   \n",
       "April25.csv  25/04/2023 19:24  1.650000e+18   \n",
       "April26.csv  26/04/2023 19:19  1.650000e+18   \n",
       "April26.csv  26/04/2023 19:14  1.650000e+18   \n",
       "April26.csv  26/04/2023 19:11  1.650000e+18   \n",
       "April26.csv  26/04/2023 18:19  1.650000e+18   \n",
       "\n",
       "                                                          Text  \\\n",
       "Source.Name                                                      \n",
       "April25.csv                                     #TheKerlaStory   \n",
       "April26.csv  Just Watched The Trailer of #Thekerlastory 😬\\n...   \n",
       "April26.csv  @Starboy2079 #mustwatcgthekerlastory #Thekerla...   \n",
       "April26.csv                              #Thekerlastory 👍🏻👍🏻🩷🩷   \n",
       "April26.csv  #TheKerlaStory @ARanganathan72\\nhttps://t.co/5...   \n",
       "\n",
       "                    Username  retweetCount  likeCount  quoteCount coordinates  \\\n",
       "Source.Name                                                                     \n",
       "April25.csv    SArDArDCPATEL             0          4           0         NaN   \n",
       "April26.csv      HaqSeReview             9         41           0         NaN   \n",
       "April26.csv      Saurabh317m             0          0           0         NaN   \n",
       "April26.csv  AryanSh31941116             0          0           0         NaN   \n",
       "April26.csv     Rabindra_Sun             0          0           0         NaN   \n",
       "\n",
       "                                                mentionedUsers  \\\n",
       "Source.Name                                                      \n",
       "April25.csv                                                NaN   \n",
       "April26.csv  [User(username='adah_sharma', id=295714480, di...   \n",
       "April26.csv  [User(username='Starboy2079', id=1515651214200...   \n",
       "April26.csv                                                NaN   \n",
       "April26.csv  [User(username='ARanganathan72', id=1344897174...   \n",
       "\n",
       "             retweetedTweet                                     hashtags  \\\n",
       "Source.Name                                                                \n",
       "April25.csv             NaN                            ['TheKerlaStory']   \n",
       "April26.csv             NaN                            ['Thekerlastory']   \n",
       "April26.csv             NaN  ['mustwatcgthekerlastory', 'Thekerlastory']   \n",
       "April26.csv             NaN                            ['Thekerlastory']   \n",
       "April26.csv             NaN                            ['TheKerlaStory']   \n",
       "\n",
       "             viewCount       TweetID  \n",
       "Source.Name                           \n",
       "April25.csv      191.0  1.650000e+18  \n",
       "April26.csv     1972.0  1.650000e+18  \n",
       "April26.csv     1270.0  1.650000e+18  \n",
       "April26.csv      105.0  1.650000e+18  \n",
       "April26.csv      167.0  1.650000e+18  "
      ]
     },
     "execution_count": 3,
     "metadata": {},
     "output_type": "execute_result"
    }
   ],
   "source": [
    "keralaStory.head(5)"
   ]
  },
  {
   "cell_type": "code",
   "execution_count": 4,
   "id": "fc0c4d21",
   "metadata": {},
   "outputs": [],
   "source": [
    "grp = keralaStory.groupby('Username').size().sort_values(ascending=False)\n"
   ]
  },
  {
   "cell_type": "code",
   "execution_count": 5,
   "id": "8dca911f",
   "metadata": {},
   "outputs": [
    {
     "data": {
      "text/plain": [
       "Username\n",
       "StanTweets7        160\n",
       "MahakAajkal         73\n",
       "dushyantindia02     70\n",
       "parmeshwar988       64\n",
       "addatoday           57\n",
       "                  ... \n",
       "VaddepallyPrav       7\n",
       "Ujjawal_Rai_         7\n",
       "vikasdelhi100        7\n",
       "UjjavalH             7\n",
       "Vivek_000999         7\n",
       "Length: 100, dtype: int64"
      ]
     },
     "execution_count": 5,
     "metadata": {},
     "output_type": "execute_result"
    }
   ],
   "source": [
    "grp.head(100)"
   ]
  },
  {
   "cell_type": "code",
   "execution_count": 6,
   "id": "07454a15",
   "metadata": {},
   "outputs": [
    {
     "data": {
      "text/plain": [
       "pandas.core.series.Series"
      ]
     },
     "execution_count": 6,
     "metadata": {},
     "output_type": "execute_result"
    }
   ],
   "source": [
    "type(grp)"
   ]
  },
  {
   "cell_type": "code",
   "execution_count": 5,
   "id": "2d301a98",
   "metadata": {},
   "outputs": [],
   "source": [
    "posts = grp.to_frame()"
   ]
  },
  {
   "cell_type": "code",
   "execution_count": 7,
   "id": "3094df4c",
   "metadata": {},
   "outputs": [
    {
     "data": {
      "text/html": [
       "<div>\n",
       "<style scoped>\n",
       "    .dataframe tbody tr th:only-of-type {\n",
       "        vertical-align: middle;\n",
       "    }\n",
       "\n",
       "    .dataframe tbody tr th {\n",
       "        vertical-align: top;\n",
       "    }\n",
       "\n",
       "    .dataframe thead th {\n",
       "        text-align: right;\n",
       "    }\n",
       "</style>\n",
       "<table border=\"1\" class=\"dataframe\">\n",
       "  <thead>\n",
       "    <tr style=\"text-align: right;\">\n",
       "      <th></th>\n",
       "      <th>0</th>\n",
       "    </tr>\n",
       "    <tr>\n",
       "      <th>Username</th>\n",
       "      <th></th>\n",
       "    </tr>\n",
       "  </thead>\n",
       "  <tbody>\n",
       "    <tr>\n",
       "      <th>StanTweets7</th>\n",
       "      <td>160</td>\n",
       "    </tr>\n",
       "    <tr>\n",
       "      <th>MahakAajkal</th>\n",
       "      <td>73</td>\n",
       "    </tr>\n",
       "    <tr>\n",
       "      <th>dushyantindia02</th>\n",
       "      <td>70</td>\n",
       "    </tr>\n",
       "    <tr>\n",
       "      <th>parmeshwar988</th>\n",
       "      <td>64</td>\n",
       "    </tr>\n",
       "    <tr>\n",
       "      <th>addatoday</th>\n",
       "      <td>57</td>\n",
       "    </tr>\n",
       "  </tbody>\n",
       "</table>\n",
       "</div>"
      ],
      "text/plain": [
       "                   0\n",
       "Username            \n",
       "StanTweets7      160\n",
       "MahakAajkal       73\n",
       "dushyantindia02   70\n",
       "parmeshwar988     64\n",
       "addatoday         57"
      ]
     },
     "execution_count": 7,
     "metadata": {},
     "output_type": "execute_result"
    }
   ],
   "source": [
    "posts.head(5)"
   ]
  },
  {
   "cell_type": "code",
   "execution_count": 6,
   "id": "88eb8a66",
   "metadata": {},
   "outputs": [],
   "source": [
    "posts = posts.rename(columns={0: \"posts_per_user\"})\n"
   ]
  },
  {
   "cell_type": "code",
   "execution_count": 9,
   "id": "6a5b04d7",
   "metadata": {},
   "outputs": [
    {
     "data": {
      "text/html": [
       "<div>\n",
       "<style scoped>\n",
       "    .dataframe tbody tr th:only-of-type {\n",
       "        vertical-align: middle;\n",
       "    }\n",
       "\n",
       "    .dataframe tbody tr th {\n",
       "        vertical-align: top;\n",
       "    }\n",
       "\n",
       "    .dataframe thead th {\n",
       "        text-align: right;\n",
       "    }\n",
       "</style>\n",
       "<table border=\"1\" class=\"dataframe\">\n",
       "  <thead>\n",
       "    <tr style=\"text-align: right;\">\n",
       "      <th></th>\n",
       "      <th>posts_per_user</th>\n",
       "    </tr>\n",
       "    <tr>\n",
       "      <th>Username</th>\n",
       "      <th></th>\n",
       "    </tr>\n",
       "  </thead>\n",
       "  <tbody>\n",
       "    <tr>\n",
       "      <th>StanTweets7</th>\n",
       "      <td>160</td>\n",
       "    </tr>\n",
       "    <tr>\n",
       "      <th>MahakAajkal</th>\n",
       "      <td>73</td>\n",
       "    </tr>\n",
       "    <tr>\n",
       "      <th>dushyantindia02</th>\n",
       "      <td>70</td>\n",
       "    </tr>\n",
       "    <tr>\n",
       "      <th>parmeshwar988</th>\n",
       "      <td>64</td>\n",
       "    </tr>\n",
       "    <tr>\n",
       "      <th>addatoday</th>\n",
       "      <td>57</td>\n",
       "    </tr>\n",
       "  </tbody>\n",
       "</table>\n",
       "</div>"
      ],
      "text/plain": [
       "                 posts_per_user\n",
       "Username                       \n",
       "StanTweets7                 160\n",
       "MahakAajkal                  73\n",
       "dushyantindia02              70\n",
       "parmeshwar988                64\n",
       "addatoday                    57"
      ]
     },
     "execution_count": 9,
     "metadata": {},
     "output_type": "execute_result"
    }
   ],
   "source": [
    "posts.head(5)"
   ]
  },
  {
   "cell_type": "code",
   "execution_count": 7,
   "id": "e704b858",
   "metadata": {},
   "outputs": [],
   "source": [
    "average_posts_per_user = posts[\"posts_per_user\"].mean()"
   ]
  },
  {
   "cell_type": "code",
   "execution_count": 8,
   "id": "2d27bba7",
   "metadata": {},
   "outputs": [
    {
     "name": "stdout",
     "output_type": "stream",
     "text": [
      "1.5341917739717466\n"
     ]
    }
   ],
   "source": [
    "print(average_posts_per_user)"
   ]
  },
  {
   "cell_type": "code",
   "execution_count": 9,
   "id": "dfb0aa92",
   "metadata": {},
   "outputs": [],
   "source": [
    "trend_in_may = keralaStory[keralaStory.index.isin(['May08.csv','May09.csv','May10.csv'])]"
   ]
  },
  {
   "cell_type": "code",
   "execution_count": 10,
   "id": "e0d4b54a",
   "metadata": {},
   "outputs": [],
   "source": [
    "posts_per_account_may = trend_in_may.groupby('Username').size().sort_values(ascending=False).to_frame()"
   ]
  },
  {
   "cell_type": "code",
   "execution_count": 11,
   "id": "ad061c50",
   "metadata": {},
   "outputs": [],
   "source": [
    "posts_per_account_may = posts_per_account_may.rename(columns={0: \"posts_per_user\"})\n",
    "average_posts_per_user_may = posts_per_account_may[\"posts_per_user\"].mean()"
   ]
  },
  {
   "cell_type": "code",
   "execution_count": 14,
   "id": "b3036f91",
   "metadata": {},
   "outputs": [
    {
     "name": "stdout",
     "output_type": "stream",
     "text": [
      "1.4732726982607307\n"
     ]
    }
   ],
   "source": [
    "print(average_posts_per_user_may)"
   ]
  },
  {
   "cell_type": "code",
   "execution_count": 31,
   "id": "b87efc15",
   "metadata": {},
   "outputs": [],
   "source": [
    "retweets = keralaStory['retweetCount'].sum()"
   ]
  },
  {
   "cell_type": "code",
   "execution_count": 17,
   "id": "7e023cb7",
   "metadata": {},
   "outputs": [
    {
     "name": "stdout",
     "output_type": "stream",
     "text": [
      "78998\n"
     ]
    }
   ],
   "source": [
    "print(retweets)"
   ]
  },
  {
   "cell_type": "code",
   "execution_count": 13,
   "id": "96fdf8ef",
   "metadata": {},
   "outputs": [],
   "source": [
    "retweets_in_may = trend_in_may['retweetCount'].sum()"
   ]
  },
  {
   "cell_type": "code",
   "execution_count": 67,
   "id": "1a1b1c5f",
   "metadata": {},
   "outputs": [
    {
     "name": "stdout",
     "output_type": "stream",
     "text": [
      "1078.745811393011\n"
     ]
    }
   ],
   "source": [
    "print(retweets_in_may_proportion)"
   ]
  },
  {
   "cell_type": "code",
   "execution_count": 16,
   "id": "74d0b81d",
   "metadata": {},
   "outputs": [
    {
     "name": "stdout",
     "output_type": "stream",
     "text": [
      "6267\n"
     ]
    }
   ],
   "source": [
    "print(posts_per_account_may.shape[0])"
   ]
  },
  {
   "cell_type": "code",
   "execution_count": 17,
   "id": "a326795a",
   "metadata": {},
   "outputs": [
    {
     "name": "stdout",
     "output_type": "stream",
     "text": [
      "67605\n"
     ]
    }
   ],
   "source": [
    "print(retweets_in_may)"
   ]
  },
  {
   "cell_type": "code",
   "execution_count": 19,
   "id": "f3186aff",
   "metadata": {},
   "outputs": [
    {
     "data": {
      "text/plain": [
       "12272"
      ]
     },
     "execution_count": 19,
     "metadata": {},
     "output_type": "execute_result"
    }
   ],
   "source": [
    "keralaStory.shape[0]"
   ]
  },
  {
   "cell_type": "code",
   "execution_count": 33,
   "id": "8a42ff0d",
   "metadata": {},
   "outputs": [],
   "source": [
    "retweets = (retweets/keralaStory.shape[0])*100"
   ]
  },
  {
   "cell_type": "code",
   "execution_count": 34,
   "id": "3b1d6ff1",
   "metadata": {},
   "outputs": [
    {
     "name": "stdout",
     "output_type": "stream",
     "text": [
      "643.7255541069101\n"
     ]
    }
   ],
   "source": [
    "print(retweets)"
   ]
  },
  {
   "cell_type": "code",
   "execution_count": 22,
   "id": "5bb961ed",
   "metadata": {},
   "outputs": [],
   "source": [
    "retweets_in_may_proportion = (retweets_in_may/posts_per_account_may.size)*100"
   ]
  },
  {
   "cell_type": "code",
   "execution_count": 23,
   "id": "9e21b4ee",
   "metadata": {},
   "outputs": [
    {
     "name": "stdout",
     "output_type": "stream",
     "text": [
      "6267\n",
      "1078.745811393011\n"
     ]
    }
   ],
   "source": [
    "print(posts_per_account_may.size)\n",
    "print(retweets_in_may_proportion)"
   ]
  },
  {
   "cell_type": "code",
   "execution_count": 24,
   "id": "4e347f84",
   "metadata": {},
   "outputs": [],
   "source": [
    "top50 = posts.head(50)"
   ]
  },
  {
   "cell_type": "code",
   "execution_count": 25,
   "id": "b8bf6e55",
   "metadata": {},
   "outputs": [],
   "source": [
    "top50May = posts_per_account_may.head(50)"
   ]
  },
  {
   "cell_type": "code",
   "execution_count": 36,
   "id": "3601ab5d",
   "metadata": {},
   "outputs": [],
   "source": [
    "top50_post_proportion = (top50['posts_per_user'].sum()/keralaStory.shape[0])*100"
   ]
  },
  {
   "cell_type": "code",
   "execution_count": 37,
   "id": "8f2cb2f1",
   "metadata": {},
   "outputs": [
    {
     "name": "stdout",
     "output_type": "stream",
     "text": [
      "8.547913950456323\n"
     ]
    }
   ],
   "source": [
    "print(top50_post_proportion)"
   ]
  },
  {
   "cell_type": "code",
   "execution_count": 31,
   "id": "c6c81053",
   "metadata": {},
   "outputs": [
    {
     "data": {
      "text/html": [
       "<div>\n",
       "<style scoped>\n",
       "    .dataframe tbody tr th:only-of-type {\n",
       "        vertical-align: middle;\n",
       "    }\n",
       "\n",
       "    .dataframe tbody tr th {\n",
       "        vertical-align: top;\n",
       "    }\n",
       "\n",
       "    .dataframe thead th {\n",
       "        text-align: right;\n",
       "    }\n",
       "</style>\n",
       "<table border=\"1\" class=\"dataframe\">\n",
       "  <thead>\n",
       "    <tr style=\"text-align: right;\">\n",
       "      <th></th>\n",
       "      <th>posts_per_user</th>\n",
       "    </tr>\n",
       "    <tr>\n",
       "      <th>Username</th>\n",
       "      <th></th>\n",
       "    </tr>\n",
       "  </thead>\n",
       "  <tbody>\n",
       "    <tr>\n",
       "      <th>StanTweets7</th>\n",
       "      <td>72</td>\n",
       "    </tr>\n",
       "    <tr>\n",
       "      <th>parmeshwar988</th>\n",
       "      <td>64</td>\n",
       "    </tr>\n",
       "    <tr>\n",
       "      <th>PK004321</th>\n",
       "      <td>35</td>\n",
       "    </tr>\n",
       "    <tr>\n",
       "      <th>Arif51188130</th>\n",
       "      <td>22</td>\n",
       "    </tr>\n",
       "    <tr>\n",
       "      <th>News1IndiaTweet</th>\n",
       "      <td>20</td>\n",
       "    </tr>\n",
       "  </tbody>\n",
       "</table>\n",
       "</div>"
      ],
      "text/plain": [
       "                 posts_per_user\n",
       "Username                       \n",
       "StanTweets7                  72\n",
       "parmeshwar988                64\n",
       "PK004321                     35\n",
       "Arif51188130                 22\n",
       "News1IndiaTweet              20"
      ]
     },
     "execution_count": 31,
     "metadata": {},
     "output_type": "execute_result"
    }
   ],
   "source": [
    "top50May.head(5)"
   ]
  },
  {
   "cell_type": "code",
   "execution_count": 40,
   "id": "63f4c640",
   "metadata": {},
   "outputs": [],
   "source": [
    "top50_post_proportionMay = (top50May['posts_per_user'].sum()/trend_in_may.shape[0])*100"
   ]
  },
  {
   "cell_type": "code",
   "execution_count": 41,
   "id": "93af97ef",
   "metadata": {},
   "outputs": [
    {
     "name": "stdout",
     "output_type": "stream",
     "text": [
      "8.547913950456323\n"
     ]
    }
   ],
   "source": [
    "print(top50_post_proportion)"
   ]
  },
  {
   "cell_type": "code",
   "execution_count": 42,
   "id": "2736e7f4",
   "metadata": {},
   "outputs": [
    {
     "name": "stdout",
     "output_type": "stream",
     "text": [
      "7.798115455431604\n"
     ]
    }
   ],
   "source": [
    "print(top50_post_proportionMay)"
   ]
  },
  {
   "cell_type": "code",
   "execution_count": 28,
   "id": "94e19485",
   "metadata": {},
   "outputs": [],
   "source": [
    "R = retweets/10"
   ]
  },
  {
   "cell_type": "code",
   "execution_count": 35,
   "id": "7bc5c62e",
   "metadata": {},
   "outputs": [
    {
     "name": "stdout",
     "output_type": "stream",
     "text": [
      "64.372555410691\n"
     ]
    }
   ],
   "source": [
    "print(R)"
   ]
  },
  {
   "cell_type": "code",
   "execution_count": 38,
   "id": "736ea9c6",
   "metadata": {},
   "outputs": [],
   "source": [
    "ctm = average_posts_per_user + R + top50_post_proportion"
   ]
  },
  {
   "cell_type": "code",
   "execution_count": 37,
   "id": "d1c7c721",
   "metadata": {},
   "outputs": [
    {
     "name": "stdout",
     "output_type": "stream",
     "text": [
      "1.5341917739717466\n"
     ]
    }
   ],
   "source": [
    "print(average_posts_per_user)"
   ]
  },
  {
   "cell_type": "code",
   "execution_count": 39,
   "id": "c4aa1ff5",
   "metadata": {},
   "outputs": [
    {
     "name": "stdout",
     "output_type": "stream",
     "text": [
      "74.45466113511907\n"
     ]
    }
   ],
   "source": [
    "print(ctm)"
   ]
  },
  {
   "cell_type": "code",
   "execution_count": 61,
   "id": "6e47df5f",
   "metadata": {},
   "outputs": [
    {
     "name": "stdout",
     "output_type": "stream",
     "text": [
      "1.4732726982607307\n"
     ]
    }
   ],
   "source": [
    "print(average_posts_per_user_may)"
   ]
  },
  {
   "cell_type": "code",
   "execution_count": 38,
   "id": "dcf403f6",
   "metadata": {},
   "outputs": [],
   "source": [
    "R_in_May = retweets_in_may_proportion/10"
   ]
  },
  {
   "cell_type": "code",
   "execution_count": 39,
   "id": "3d04898f",
   "metadata": {},
   "outputs": [],
   "source": [
    "ctm_may = R_in_May + average_posts_per_user_may + top50_post_proportionMay"
   ]
  },
  {
   "cell_type": "code",
   "execution_count": 40,
   "id": "6571916a",
   "metadata": {},
   "outputs": [
    {
     "name": "stdout",
     "output_type": "stream",
     "text": [
      "109.94770887259504\n"
     ]
    }
   ],
   "source": [
    "print(ctm_may)"
   ]
  },
  {
   "cell_type": "code",
   "execution_count": null,
   "id": "84bb9be5",
   "metadata": {},
   "outputs": [],
   "source": []
  }
 ],
 "metadata": {
  "kernelspec": {
   "display_name": "Python 3 (ipykernel)",
   "language": "python",
   "name": "python3"
  },
  "language_info": {
   "codemirror_mode": {
    "name": "ipython",
    "version": 3
   },
   "file_extension": ".py",
   "mimetype": "text/x-python",
   "name": "python",
   "nbconvert_exporter": "python",
   "pygments_lexer": "ipython3",
   "version": "3.10.10"
  }
 },
 "nbformat": 4,
 "nbformat_minor": 5
}
