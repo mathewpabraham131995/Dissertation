{
 "cells": [
  {
   "cell_type": "code",
   "execution_count": 1,
   "id": "733367e3",
   "metadata": {},
   "outputs": [
    {
     "name": "stdout",
     "output_type": "stream",
     "text": [
      "Collecting git+https://github.com/JustAnotherArchivist/snscrape.git\n",
      "  Cloning https://github.com/JustAnotherArchivist/snscrape.git to c:\\users\\lip22mpa\\appdata\\local\\temp\\pip-req-build-uy7i1sv3\n",
      "  Resolved https://github.com/JustAnotherArchivist/snscrape.git to commit c3b216c3cb8593513a018eb3ec4fd6f18d3aba5b\n",
      "  Installing build dependencies: started\n",
      "  Installing build dependencies: finished with status 'done'\n",
      "  Getting requirements to build wheel: started\n",
      "  Getting requirements to build wheel: finished with status 'done'\n",
      "  Installing backend dependencies: started\n",
      "  Installing backend dependencies: finished with status 'done'\n",
      "    Preparing wheel metadata: started\n",
      "    Preparing wheel metadata: finished with status 'done'\n",
      "Requirement already satisfied: beautifulsoup4 in c:\\anaconda\\lib\\site-packages (from snscrape==0.6.2.20230321.dev39+gc3b216c) (4.11.1)\n",
      "Requirement already satisfied: lxml in c:\\anaconda\\lib\\site-packages (from snscrape==0.6.2.20230321.dev39+gc3b216c) (4.8.0)\n",
      "Requirement already satisfied: filelock in c:\\anaconda\\lib\\site-packages (from snscrape==0.6.2.20230321.dev39+gc3b216c) (3.6.0)\n",
      "Requirement already satisfied: requests[socks] in c:\\anaconda\\lib\\site-packages (from snscrape==0.6.2.20230321.dev39+gc3b216c) (2.27.1)\n",
      "Requirement already satisfied: soupsieve>1.2 in c:\\anaconda\\lib\\site-packages (from beautifulsoup4->snscrape==0.6.2.20230321.dev39+gc3b216c) (2.3.1)\n",
      "Requirement already satisfied: urllib3<1.27,>=1.21.1 in c:\\anaconda\\lib\\site-packages (from requests[socks]->snscrape==0.6.2.20230321.dev39+gc3b216c) (1.26.9)\n",
      "Requirement already satisfied: idna<4,>=2.5 in c:\\anaconda\\lib\\site-packages (from requests[socks]->snscrape==0.6.2.20230321.dev39+gc3b216c) (3.3)\n",
      "Requirement already satisfied: charset-normalizer~=2.0.0 in c:\\anaconda\\lib\\site-packages (from requests[socks]->snscrape==0.6.2.20230321.dev39+gc3b216c) (2.0.4)\n",
      "Requirement already satisfied: certifi>=2017.4.17 in c:\\anaconda\\lib\\site-packages (from requests[socks]->snscrape==0.6.2.20230321.dev39+gc3b216c) (2021.10.8)\n",
      "Requirement already satisfied: PySocks!=1.5.7,>=1.5.6 in c:\\anaconda\\lib\\site-packages (from requests[socks]->snscrape==0.6.2.20230321.dev39+gc3b216c) (1.7.1)\n"
     ]
    },
    {
     "name": "stderr",
     "output_type": "stream",
     "text": [
      "  Running command git clone -q https://github.com/JustAnotherArchivist/snscrape.git 'C:\\Users\\lip22mpa\\AppData\\Local\\Temp\\pip-req-build-uy7i1sv3'\n"
     ]
    }
   ],
   "source": [
    "!pip install git+https://github.com/JustAnotherArchivist/snscrape.git\n"
   ]
  },
  {
   "cell_type": "code",
   "execution_count": 1,
   "id": "4bc7847a",
   "metadata": {},
   "outputs": [],
   "source": [
    "import snscrape.modules.twitter as sntwitter\n",
    "import pandas as pd"
   ]
  },
  {
   "cell_type": "code",
   "execution_count": 14,
   "id": "51316c93",
   "metadata": {},
   "outputs": [],
   "source": [
    "def tweets(username,since,upto,maxtweets):\n",
    "    maxTweets = maxtweets\n",
    "    tweets_list = []\n",
    "\n",
    "# Using TwitterSearchScraper to scrape data and append tweets to list\n",
    "    for i,tweet in enumerate(sntwitter.TwitterSearchScraper('from:{0} since:{1} until:{2}'.format(username,since,upto)).get_items()):\n",
    "        if i>maxTweets:\n",
    "            break\n",
    "        tweets_list.append([tweet.date, tweet.id, tweet.rawContent, tweet.user.username])\n",
    "    tweets_df = pd.DataFrame(tweets_list, columns=['Datetime', 'Tweet Id', 'Text', 'Username'])\n",
    "    tweets_df.to_csv('{0}.csv'.format(username), sep=',', index=False)\n",
    "    return tweets_df"
   ]
  },
  {
   "cell_type": "code",
   "execution_count": 17,
   "id": "b7643153",
   "metadata": {},
   "outputs": [
    {
     "name": "stderr",
     "output_type": "stream",
     "text": [
      "Could not translate t.co card URL on tweet 1659815897182134272\n",
      "Could not translate t.co card URL on tweet 1657237866442027008\n"
     ]
    },
    {
     "data": {
      "text/html": [
       "<div>\n",
       "<style scoped>\n",
       "    .dataframe tbody tr th:only-of-type {\n",
       "        vertical-align: middle;\n",
       "    }\n",
       "\n",
       "    .dataframe tbody tr th {\n",
       "        vertical-align: top;\n",
       "    }\n",
       "\n",
       "    .dataframe thead th {\n",
       "        text-align: right;\n",
       "    }\n",
       "</style>\n",
       "<table border=\"1\" class=\"dataframe\">\n",
       "  <thead>\n",
       "    <tr style=\"text-align: right;\">\n",
       "      <th></th>\n",
       "      <th>Datetime</th>\n",
       "      <th>Tweet Id</th>\n",
       "      <th>Text</th>\n",
       "      <th>Username</th>\n",
       "    </tr>\n",
       "  </thead>\n",
       "  <tbody>\n",
       "    <tr>\n",
       "      <th>0</th>\n",
       "      <td>2023-05-30 23:30:00+00:00</td>\n",
       "      <td>1663689244278226945</td>\n",
       "      <td>Trees Uprooted in #Bengaluru as Heavy Rains, G...</td>\n",
       "      <td>TimesNow</td>\n",
       "    </tr>\n",
       "    <tr>\n",
       "      <th>1</th>\n",
       "      <td>2023-05-30 23:00:00+00:00</td>\n",
       "      <td>1663681695139151875</td>\n",
       "      <td>United World Wrestling Condemns Detention Of I...</td>\n",
       "      <td>TimesNow</td>\n",
       "    </tr>\n",
       "    <tr>\n",
       "      <th>2</th>\n",
       "      <td>2023-05-30 22:30:01+00:00</td>\n",
       "      <td>1663674147908751362</td>\n",
       "      <td>#Mumbai: Fire breaks out on 15th floor of buil...</td>\n",
       "      <td>TimesNow</td>\n",
       "    </tr>\n",
       "    <tr>\n",
       "      <th>3</th>\n",
       "      <td>2023-05-30 22:00:00+00:00</td>\n",
       "      <td>1663666596798246912</td>\n",
       "      <td>Very Shameful For The Country...': #Congress L...</td>\n",
       "      <td>TimesNow</td>\n",
       "    </tr>\n",
       "    <tr>\n",
       "      <th>4</th>\n",
       "      <td>2023-05-30 21:30:00+00:00</td>\n",
       "      <td>1663659045490925568</td>\n",
       "      <td>Bollywood Speak Up! Twitterati Bash Priyanka C...</td>\n",
       "      <td>TimesNow</td>\n",
       "    </tr>\n",
       "    <tr>\n",
       "      <th>...</th>\n",
       "      <td>...</td>\n",
       "      <td>...</td>\n",
       "      <td>...</td>\n",
       "      <td>...</td>\n",
       "    </tr>\n",
       "    <tr>\n",
       "      <th>9996</th>\n",
       "      <td>2023-05-01 07:45:00+00:00</td>\n",
       "      <td>1652942178791067651</td>\n",
       "      <td>#Delhi Shocker: Man drives for 3 Km with a per...</td>\n",
       "      <td>TimesNow</td>\n",
       "    </tr>\n",
       "    <tr>\n",
       "      <th>9997</th>\n",
       "      <td>2023-05-01 07:43:01+00:00</td>\n",
       "      <td>1652941680796999680</td>\n",
       "      <td>After #Congress President #MallikarjunKharge, ...</td>\n",
       "      <td>TimesNow</td>\n",
       "    </tr>\n",
       "    <tr>\n",
       "      <th>9998</th>\n",
       "      <td>2023-05-01 07:40:00+00:00</td>\n",
       "      <td>1652940920407601153</td>\n",
       "      <td>#RomanSaini: From cracking MBBS at 16 to ownin...</td>\n",
       "      <td>TimesNow</td>\n",
       "    </tr>\n",
       "    <tr>\n",
       "      <th>9999</th>\n",
       "      <td>2023-05-01 07:36:15+00:00</td>\n",
       "      <td>1652939979767656451</td>\n",
       "      <td>\"Like father, like son. Congress only abuses t...</td>\n",
       "      <td>TimesNow</td>\n",
       "    </tr>\n",
       "    <tr>\n",
       "      <th>10000</th>\n",
       "      <td>2023-05-01 07:35:00+00:00</td>\n",
       "      <td>1652939662137126914</td>\n",
       "      <td>Video of tigress and cubs crossing road at nig...</td>\n",
       "      <td>TimesNow</td>\n",
       "    </tr>\n",
       "  </tbody>\n",
       "</table>\n",
       "<p>10001 rows × 4 columns</p>\n",
       "</div>"
      ],
      "text/plain": [
       "                       Datetime             Tweet Id  \\\n",
       "0     2023-05-30 23:30:00+00:00  1663689244278226945   \n",
       "1     2023-05-30 23:00:00+00:00  1663681695139151875   \n",
       "2     2023-05-30 22:30:01+00:00  1663674147908751362   \n",
       "3     2023-05-30 22:00:00+00:00  1663666596798246912   \n",
       "4     2023-05-30 21:30:00+00:00  1663659045490925568   \n",
       "...                         ...                  ...   \n",
       "9996  2023-05-01 07:45:00+00:00  1652942178791067651   \n",
       "9997  2023-05-01 07:43:01+00:00  1652941680796999680   \n",
       "9998  2023-05-01 07:40:00+00:00  1652940920407601153   \n",
       "9999  2023-05-01 07:36:15+00:00  1652939979767656451   \n",
       "10000 2023-05-01 07:35:00+00:00  1652939662137126914   \n",
       "\n",
       "                                                    Text  Username  \n",
       "0      Trees Uprooted in #Bengaluru as Heavy Rains, G...  TimesNow  \n",
       "1      United World Wrestling Condemns Detention Of I...  TimesNow  \n",
       "2      #Mumbai: Fire breaks out on 15th floor of buil...  TimesNow  \n",
       "3      Very Shameful For The Country...': #Congress L...  TimesNow  \n",
       "4      Bollywood Speak Up! Twitterati Bash Priyanka C...  TimesNow  \n",
       "...                                                  ...       ...  \n",
       "9996   #Delhi Shocker: Man drives for 3 Km with a per...  TimesNow  \n",
       "9997   After #Congress President #MallikarjunKharge, ...  TimesNow  \n",
       "9998   #RomanSaini: From cracking MBBS at 16 to ownin...  TimesNow  \n",
       "9999   \"Like father, like son. Congress only abuses t...  TimesNow  \n",
       "10000  Video of tigress and cubs crossing road at nig...  TimesNow  \n",
       "\n",
       "[10001 rows x 4 columns]"
      ]
     },
     "execution_count": 17,
     "metadata": {},
     "output_type": "execute_result"
    }
   ],
   "source": [
    "#tweets('TimesNow','2023-05-01','2023-05-31',10000)"
   ]
  },
  {
   "cell_type": "code",
   "execution_count": null,
   "id": "bde8ba2c",
   "metadata": {},
   "outputs": [],
   "source": []
  }
 ],
 "metadata": {
  "kernelspec": {
   "display_name": "Python 3 (ipykernel)",
   "language": "python",
   "name": "python3"
  },
  "language_info": {
   "codemirror_mode": {
    "name": "ipython",
    "version": 3
   },
   "file_extension": ".py",
   "mimetype": "text/x-python",
   "name": "python",
   "nbconvert_exporter": "python",
   "pygments_lexer": "ipython3",
   "version": "3.9.12"
  }
 },
 "nbformat": 4,
 "nbformat_minor": 5
}
