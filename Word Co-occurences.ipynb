{
 "cells": [
  {
   "cell_type": "code",
   "execution_count": 18,
   "id": "bbcc5d6d",
   "metadata": {},
   "outputs": [
    {
     "ename": "SyntaxError",
     "evalue": "invalid syntax (1519615651.py, line 2)",
     "output_type": "error",
     "traceback": [
      "\u001b[1;36m  Input \u001b[1;32mIn [18]\u001b[1;36m\u001b[0m\n\u001b[1;33m    pip install 'scipy>=1.8'\u001b[0m\n\u001b[1;37m        ^\u001b[0m\n\u001b[1;31mSyntaxError\u001b[0m\u001b[1;31m:\u001b[0m invalid syntax\n"
     ]
    }
   ],
   "source": [
    "#pip install networkx"
   ]
  },
  {
   "cell_type": "code",
   "execution_count": 21,
   "id": "c45eca75",
   "metadata": {},
   "outputs": [
    {
     "name": "stdout",
     "output_type": "stream",
     "text": [
      "Requirement already satisfied: scipy in c:\\anaconda\\lib\\site-packages (1.7.3)\n",
      "Collecting scipy\n",
      "  Downloading scipy-1.11.1-cp39-cp39-win_amd64.whl (44.1 MB)\n",
      "Requirement already satisfied: networkx in c:\\anaconda\\lib\\site-packages (2.7.1)\n",
      "Note: you may need to restart the kernel to use updated packages.Collecting networkx\n",
      "  Downloading networkx-3.1-py3-none-any.whl (2.1 MB)\n",
      "Collecting numpy<1.28.0,>=1.21.6\n",
      "  Downloading numpy-1.25.2-cp39-cp39-win_amd64.whl (15.6 MB)\n",
      "Installing collected packages: numpy, scipy, networkx\n",
      "\n"
     ]
    },
    {
     "name": "stderr",
     "output_type": "stream",
     "text": [
      "ERROR: Could not install packages due to an OSError: [Errno 28] No space left on device\n",
      "\n"
     ]
    }
   ],
   "source": [
    "pip install --upgrade scipy networkx"
   ]
  },
  {
   "cell_type": "code",
   "execution_count": 1,
   "id": "30aa30b1",
   "metadata": {},
   "outputs": [],
   "source": [
    "import networkx as nx\n",
    "from itertools import combinations"
   ]
  },
  {
   "cell_type": "code",
   "execution_count": 2,
   "id": "5dd6d36c",
   "metadata": {},
   "outputs": [],
   "source": [
    "import nltk\n",
    "from nltk.corpus import stopwords\n",
    "from nltk.tokenize import word_tokenize"
   ]
  },
  {
   "cell_type": "code",
   "execution_count": 3,
   "id": "dda1a906",
   "metadata": {},
   "outputs": [],
   "source": [
    "import pandas as pd\n",
    "import re"
   ]
  },
  {
   "cell_type": "code",
   "execution_count": 14,
   "id": "010cf5da",
   "metadata": {},
   "outputs": [],
   "source": [
    "import matplotlib.pyplot as plt\n"
   ]
  },
  {
   "cell_type": "code",
   "execution_count": 4,
   "id": "af24eed2",
   "metadata": {},
   "outputs": [
    {
     "name": "stderr",
     "output_type": "stream",
     "text": [
      "[nltk_data] Downloading package punkt to\n",
      "[nltk_data]     C:\\Users\\lip22mpa\\AppData\\Roaming\\nltk_data...\n",
      "[nltk_data]   Package punkt is already up-to-date!\n",
      "[nltk_data] Downloading package stopwords to\n",
      "[nltk_data]     C:\\Users\\lip22mpa\\AppData\\Roaming\\nltk_data...\n",
      "[nltk_data]   Package stopwords is already up-to-date!\n"
     ]
    },
    {
     "data": {
      "text/plain": [
       "True"
      ]
     },
     "execution_count": 4,
     "metadata": {},
     "output_type": "execute_result"
    }
   ],
   "source": [
    "nltk.download('punkt')\n",
    "nltk.download('stopwords')"
   ]
  },
  {
   "cell_type": "code",
   "execution_count": 5,
   "id": "2c3aea6f",
   "metadata": {},
   "outputs": [],
   "source": [
    "def preprocess_tweet(tweet):\n",
    "    tweet_without_url = re.sub(r'http\\S+','',tweet)\n",
    "    tokens = word_tokenize(tweet_without_url)\n",
    "    tokens = [token.lower() for token in tokens if token.isalpha()]\n",
    "    \n",
    "    stop_words = set(stopwords.words('english'))\n",
    "    tokens = [token for token in tokens if token not in stop_words]\n",
    "    \n",
    "    return tokens\n"
   ]
  },
  {
   "cell_type": "code",
   "execution_count": 6,
   "id": "b8b724b9",
   "metadata": {},
   "outputs": [],
   "source": [
    "complete_tweets = pd.read_csv('completetweets.csv')"
   ]
  },
  {
   "cell_type": "code",
   "execution_count": 7,
   "id": "5d872a8a",
   "metadata": {},
   "outputs": [
    {
     "data": {
      "text/html": [
       "<div>\n",
       "<style scoped>\n",
       "    .dataframe tbody tr th:only-of-type {\n",
       "        vertical-align: middle;\n",
       "    }\n",
       "\n",
       "    .dataframe tbody tr th {\n",
       "        vertical-align: top;\n",
       "    }\n",
       "\n",
       "    .dataframe thead th {\n",
       "        text-align: right;\n",
       "    }\n",
       "</style>\n",
       "<table border=\"1\" class=\"dataframe\">\n",
       "  <thead>\n",
       "    <tr style=\"text-align: right;\">\n",
       "      <th></th>\n",
       "      <th>Source.Name</th>\n",
       "      <th>Datetime</th>\n",
       "      <th>Tweet Id</th>\n",
       "      <th>Text</th>\n",
       "      <th>Username</th>\n",
       "      <th>retweetCount</th>\n",
       "      <th>likeCount</th>\n",
       "      <th>quoteCount</th>\n",
       "      <th>coordinates</th>\n",
       "      <th>mentionedUsers</th>\n",
       "      <th>retweetedTweet</th>\n",
       "      <th>hashtags</th>\n",
       "      <th>viewCount</th>\n",
       "      <th>TweetID</th>\n",
       "      <th>LanguageUsed</th>\n",
       "      <th>TranslatedText</th>\n",
       "    </tr>\n",
       "  </thead>\n",
       "  <tbody>\n",
       "    <tr>\n",
       "      <th>0</th>\n",
       "      <td>April25.csv</td>\n",
       "      <td>25/04/2023 19:24</td>\n",
       "      <td>1.650000e+18</td>\n",
       "      <td>#TheKerlaStory</td>\n",
       "      <td>SArDArDCPATEL</td>\n",
       "      <td>0</td>\n",
       "      <td>4</td>\n",
       "      <td>0</td>\n",
       "      <td>NaN</td>\n",
       "      <td>NaN</td>\n",
       "      <td>NaN</td>\n",
       "      <td>['TheKerlaStory']</td>\n",
       "      <td>191.0</td>\n",
       "      <td>1.650000e+18</td>\n",
       "      <td>en</td>\n",
       "      <td>#TheKerlaStory</td>\n",
       "    </tr>\n",
       "    <tr>\n",
       "      <th>1</th>\n",
       "      <td>April26.csv</td>\n",
       "      <td>26/04/2023 19:19</td>\n",
       "      <td>1.650000e+18</td>\n",
       "      <td>Just Watched The Trailer of #Thekerlastory 😬\\n...</td>\n",
       "      <td>HaqSeReview</td>\n",
       "      <td>9</td>\n",
       "      <td>41</td>\n",
       "      <td>0</td>\n",
       "      <td>NaN</td>\n",
       "      <td>[User(username='adah_sharma', id=295714480, di...</td>\n",
       "      <td>NaN</td>\n",
       "      <td>['Thekerlastory']</td>\n",
       "      <td>1972.0</td>\n",
       "      <td>1.650000e+18</td>\n",
       "      <td>hi</td>\n",
       "      <td>Just watched the trailer of #thekerlastory 😬\\n...</td>\n",
       "    </tr>\n",
       "    <tr>\n",
       "      <th>2</th>\n",
       "      <td>April26.csv</td>\n",
       "      <td>26/04/2023 19:14</td>\n",
       "      <td>1.650000e+18</td>\n",
       "      <td>@Starboy2079 #mustwatcgthekerlastory #Thekerla...</td>\n",
       "      <td>Saurabh317m</td>\n",
       "      <td>0</td>\n",
       "      <td>0</td>\n",
       "      <td>0</td>\n",
       "      <td>NaN</td>\n",
       "      <td>[User(username='Starboy2079', id=1515651214200...</td>\n",
       "      <td>NaN</td>\n",
       "      <td>['mustwatcgthekerlastory', 'Thekerlastory']</td>\n",
       "      <td>1270.0</td>\n",
       "      <td>1.650000e+18</td>\n",
       "      <td>en</td>\n",
       "      <td>@Starboy2079 #mustwatcgthekerlastory #Thekerla...</td>\n",
       "    </tr>\n",
       "    <tr>\n",
       "      <th>3</th>\n",
       "      <td>April26.csv</td>\n",
       "      <td>26/04/2023 19:11</td>\n",
       "      <td>1.650000e+18</td>\n",
       "      <td>#Thekerlastory 👍🏻👍🏻🩷🩷</td>\n",
       "      <td>AryanSh31941116</td>\n",
       "      <td>0</td>\n",
       "      <td>0</td>\n",
       "      <td>0</td>\n",
       "      <td>NaN</td>\n",
       "      <td>NaN</td>\n",
       "      <td>NaN</td>\n",
       "      <td>['Thekerlastory']</td>\n",
       "      <td>105.0</td>\n",
       "      <td>1.650000e+18</td>\n",
       "      <td>en</td>\n",
       "      <td>#Thekerlastory 👍🏻👍🏻🩷🩷</td>\n",
       "    </tr>\n",
       "    <tr>\n",
       "      <th>4</th>\n",
       "      <td>April26.csv</td>\n",
       "      <td>26/04/2023 18:19</td>\n",
       "      <td>1.650000e+18</td>\n",
       "      <td>#TheKerlaStory @ARanganathan72\\nhttps://t.co/5...</td>\n",
       "      <td>Rabindra_Sun</td>\n",
       "      <td>0</td>\n",
       "      <td>0</td>\n",
       "      <td>0</td>\n",
       "      <td>NaN</td>\n",
       "      <td>[User(username='ARanganathan72', id=1344897174...</td>\n",
       "      <td>NaN</td>\n",
       "      <td>['TheKerlaStory']</td>\n",
       "      <td>167.0</td>\n",
       "      <td>1.650000e+18</td>\n",
       "      <td>en</td>\n",
       "      <td>#TheKerlaStory @ARanganathan72\\nhttps://t.co/5...</td>\n",
       "    </tr>\n",
       "  </tbody>\n",
       "</table>\n",
       "</div>"
      ],
      "text/plain": [
       "   Source.Name          Datetime      Tweet Id  \\\n",
       "0  April25.csv  25/04/2023 19:24  1.650000e+18   \n",
       "1  April26.csv  26/04/2023 19:19  1.650000e+18   \n",
       "2  April26.csv  26/04/2023 19:14  1.650000e+18   \n",
       "3  April26.csv  26/04/2023 19:11  1.650000e+18   \n",
       "4  April26.csv  26/04/2023 18:19  1.650000e+18   \n",
       "\n",
       "                                                Text         Username  \\\n",
       "0                                     #TheKerlaStory    SArDArDCPATEL   \n",
       "1  Just Watched The Trailer of #Thekerlastory 😬\\n...      HaqSeReview   \n",
       "2  @Starboy2079 #mustwatcgthekerlastory #Thekerla...      Saurabh317m   \n",
       "3                              #Thekerlastory 👍🏻👍🏻🩷🩷  AryanSh31941116   \n",
       "4  #TheKerlaStory @ARanganathan72\\nhttps://t.co/5...     Rabindra_Sun   \n",
       "\n",
       "   retweetCount  likeCount  quoteCount coordinates  \\\n",
       "0             0          4           0         NaN   \n",
       "1             9         41           0         NaN   \n",
       "2             0          0           0         NaN   \n",
       "3             0          0           0         NaN   \n",
       "4             0          0           0         NaN   \n",
       "\n",
       "                                      mentionedUsers  retweetedTweet  \\\n",
       "0                                                NaN             NaN   \n",
       "1  [User(username='adah_sharma', id=295714480, di...             NaN   \n",
       "2  [User(username='Starboy2079', id=1515651214200...             NaN   \n",
       "3                                                NaN             NaN   \n",
       "4  [User(username='ARanganathan72', id=1344897174...             NaN   \n",
       "\n",
       "                                      hashtags  viewCount       TweetID  \\\n",
       "0                            ['TheKerlaStory']      191.0  1.650000e+18   \n",
       "1                            ['Thekerlastory']     1972.0  1.650000e+18   \n",
       "2  ['mustwatcgthekerlastory', 'Thekerlastory']     1270.0  1.650000e+18   \n",
       "3                            ['Thekerlastory']      105.0  1.650000e+18   \n",
       "4                            ['TheKerlaStory']      167.0  1.650000e+18   \n",
       "\n",
       "  LanguageUsed                                     TranslatedText  \n",
       "0           en                                     #TheKerlaStory  \n",
       "1           hi  Just watched the trailer of #thekerlastory 😬\\n...  \n",
       "2           en  @Starboy2079 #mustwatcgthekerlastory #Thekerla...  \n",
       "3           en                              #Thekerlastory 👍🏻👍🏻🩷🩷  \n",
       "4           en  #TheKerlaStory @ARanganathan72\\nhttps://t.co/5...  "
      ]
     },
     "execution_count": 7,
     "metadata": {},
     "output_type": "execute_result"
    }
   ],
   "source": [
    "complete_tweets.head()"
   ]
  },
  {
   "cell_type": "code",
   "execution_count": 8,
   "id": "d67950b6",
   "metadata": {},
   "outputs": [],
   "source": [
    "preprocessed_tweets = [preprocess_tweet(tweet) for tweet in complete_tweets['TranslatedText']]"
   ]
  },
  {
   "cell_type": "code",
   "execution_count": 9,
   "id": "2a89542f",
   "metadata": {},
   "outputs": [
    {
     "data": {
      "text/plain": [
       "[['watched',\n",
       "  'trailer',\n",
       "  'thekerlastory',\n",
       "  'sach',\n",
       "  'batau',\n",
       "  'theatre',\n",
       "  'fatne',\n",
       "  'vali',\n",
       "  'h',\n",
       "  'aisa',\n",
       "  'lag',\n",
       "  'rha',\n",
       "  'h',\n",
       "  'hat',\n",
       "  'itna',\n",
       "  'daring',\n",
       "  'aata',\n",
       "  'kaise',\n",
       "  'h',\n",
       "  'hope',\n",
       "  'release',\n",
       "  'koi',\n",
       "  'issue',\n",
       "  'na',\n",
       "  'ho'],\n",
       " ['mustwatcgthekerlastory', 'thekerlastory'],\n",
       " ['thekerlastory'],\n",
       " ['thekerlastory'],\n",
       " ['anjanaomkashyap',\n",
       "  'saveourdaughters',\n",
       "  'keralastory',\n",
       "  'thekerlastory',\n",
       "  'lovejihaad'],\n",
       " ['kerala',\n",
       "  'brothers',\n",
       "  'must',\n",
       "  'see',\n",
       "  'sister',\n",
       "  'daughter',\n",
       "  'see',\n",
       "  'get',\n",
       "  'fever',\n",
       "  'secularism',\n",
       "  'thekerlastory',\n",
       "  'thekeracharastorytraler'],\n",
       " ['kudos',\n",
       "  'producer',\n",
       "  'amp',\n",
       "  'director',\n",
       "  'making',\n",
       "  'real',\n",
       "  'based',\n",
       "  'movies',\n",
       "  'thekerlastory'],\n",
       " ['thekerlastory', 'true', 'opinion', 'agree'],\n",
       " ['pranitasubhash',\n",
       "  'sudiptosentlm',\n",
       "  'talked',\n",
       "  'entire',\n",
       "  'film',\n",
       "  'industry',\n",
       "  'courage',\n",
       "  'commendable',\n",
       "  'thekerlastory']]"
      ]
     },
     "execution_count": 9,
     "metadata": {},
     "output_type": "execute_result"
    }
   ],
   "source": [
    "preprocessed_tweets[1:10]"
   ]
  },
  {
   "cell_type": "code",
   "execution_count": 11,
   "id": "807bba96",
   "metadata": {},
   "outputs": [],
   "source": [
    "co_occurence_graph = nx.Graph()"
   ]
  },
  {
   "cell_type": "code",
   "execution_count": 13,
   "id": "b948e631",
   "metadata": {},
   "outputs": [],
   "source": [
    "for tweet_tokens in preprocessed_tweets:\n",
    "    token_pairs = combinations(tweet_tokens, 2)\n",
    "    \n",
    "    for pair in token_pairs:\n",
    "        token1, token2 = pair\n",
    "        if co_occurence_graph.has_edge(token1, token2):\n",
    "            co_occurence_graph[token1][token2]['weight'] += 1\n",
    "        else:\n",
    "            co_occurence_graph.add_edge(token1, token2, weight = 1)"
   ]
  },
  {
   "cell_type": "code",
   "execution_count": 15,
   "id": "dd35b2f3",
   "metadata": {},
   "outputs": [
    {
     "ename": "AttributeError",
     "evalue": "module 'scipy.sparse' has no attribute 'coo_array'",
     "output_type": "error",
     "traceback": [
      "\u001b[1;31m---------------------------------------------------------------------------\u001b[0m",
      "\u001b[1;31mAttributeError\u001b[0m                            Traceback (most recent call last)",
      "Input \u001b[1;32mIn [15]\u001b[0m, in \u001b[0;36m<cell line: 1>\u001b[1;34m()\u001b[0m\n\u001b[1;32m----> 1\u001b[0m pos \u001b[38;5;241m=\u001b[39m \u001b[43mnx\u001b[49m\u001b[38;5;241;43m.\u001b[39;49m\u001b[43mspring_layout\u001b[49m\u001b[43m(\u001b[49m\u001b[43mco_occurence_graph\u001b[49m\u001b[43m)\u001b[49m\n\u001b[0;32m      2\u001b[0m nx\u001b[38;5;241m.\u001b[39mdraw(co_occurence_graph, pos, with_labels \u001b[38;5;241m=\u001b[39m \u001b[38;5;28;01mTrue\u001b[39;00m, font_weight \u001b[38;5;241m=\u001b[39m \u001b[38;5;124m'\u001b[39m\u001b[38;5;124mbold\u001b[39m\u001b[38;5;124m'\u001b[39m)\n\u001b[0;32m      3\u001b[0m plt\u001b[38;5;241m.\u001b[39mshow()\n",
      "File \u001b[1;32mC:\\Anaconda\\lib\\site-packages\\networkx\\utils\\decorators.py:816\u001b[0m, in \u001b[0;36margmap.__call__.<locals>.func\u001b[1;34m(_argmap__wrapper, *args, **kwargs)\u001b[0m\n\u001b[0;32m    815\u001b[0m \u001b[38;5;28;01mdef\u001b[39;00m \u001b[38;5;21mfunc\u001b[39m(\u001b[38;5;241m*\u001b[39margs, __wrapper\u001b[38;5;241m=\u001b[39m\u001b[38;5;28;01mNone\u001b[39;00m, \u001b[38;5;241m*\u001b[39m\u001b[38;5;241m*\u001b[39mkwargs):\n\u001b[1;32m--> 816\u001b[0m     \u001b[38;5;28;01mreturn\u001b[39;00m argmap\u001b[38;5;241m.\u001b[39m_lazy_compile(__wrapper)(\u001b[38;5;241m*\u001b[39margs, \u001b[38;5;241m*\u001b[39m\u001b[38;5;241m*\u001b[39mkwargs)\n",
      "File \u001b[1;32m<class 'networkx.utils.decorators.argmap'> compilation 4:4\u001b[0m, in \u001b[0;36margmap_spring_layout_1\u001b[1;34m(G, k, pos, fixed, iterations, threshold, weight, scale, center, dim, seed)\u001b[0m\n\u001b[0;32m      2\u001b[0m \u001b[38;5;28;01mfrom\u001b[39;00m \u001b[38;5;21;01mos\u001b[39;00m\u001b[38;5;21;01m.\u001b[39;00m\u001b[38;5;21;01mpath\u001b[39;00m \u001b[38;5;28;01mimport\u001b[39;00m splitext\n\u001b[0;32m      3\u001b[0m \u001b[38;5;28;01mfrom\u001b[39;00m \u001b[38;5;21;01mcontextlib\u001b[39;00m \u001b[38;5;28;01mimport\u001b[39;00m contextmanager\n\u001b[1;32m----> 4\u001b[0m \u001b[38;5;28;01mfrom\u001b[39;00m \u001b[38;5;21;01mpathlib\u001b[39;00m \u001b[38;5;28;01mimport\u001b[39;00m Path\n\u001b[0;32m      6\u001b[0m \u001b[38;5;28;01mimport\u001b[39;00m \u001b[38;5;21;01mnetworkx\u001b[39;00m \u001b[38;5;28;01mas\u001b[39;00m \u001b[38;5;21;01mnx\u001b[39;00m\n\u001b[0;32m      7\u001b[0m \u001b[38;5;28;01mfrom\u001b[39;00m \u001b[38;5;21;01mnetworkx\u001b[39;00m\u001b[38;5;21;01m.\u001b[39;00m\u001b[38;5;21;01mutils\u001b[39;00m \u001b[38;5;28;01mimport\u001b[39;00m create_random_state, create_py_random_state\n",
      "File \u001b[1;32mC:\\Anaconda\\lib\\site-packages\\networkx\\drawing\\layout.py:476\u001b[0m, in \u001b[0;36mspring_layout\u001b[1;34m(G, k, pos, fixed, iterations, threshold, weight, scale, center, dim, seed)\u001b[0m\n\u001b[0;32m    474\u001b[0m \u001b[38;5;28;01mif\u001b[39;00m \u001b[38;5;28mlen\u001b[39m(G) \u001b[38;5;241m<\u001b[39m \u001b[38;5;241m500\u001b[39m:  \u001b[38;5;66;03m# sparse solver for large graphs\u001b[39;00m\n\u001b[0;32m    475\u001b[0m     \u001b[38;5;28;01mraise\u001b[39;00m \u001b[38;5;167;01mValueError\u001b[39;00m\n\u001b[1;32m--> 476\u001b[0m A \u001b[38;5;241m=\u001b[39m \u001b[43mnx\u001b[49m\u001b[38;5;241;43m.\u001b[39;49m\u001b[43mto_scipy_sparse_array\u001b[49m\u001b[43m(\u001b[49m\u001b[43mG\u001b[49m\u001b[43m,\u001b[49m\u001b[43m \u001b[49m\u001b[43mweight\u001b[49m\u001b[38;5;241;43m=\u001b[39;49m\u001b[43mweight\u001b[49m\u001b[43m,\u001b[49m\u001b[43m \u001b[49m\u001b[43mdtype\u001b[49m\u001b[38;5;241;43m=\u001b[39;49m\u001b[38;5;124;43m\"\u001b[39;49m\u001b[38;5;124;43mf\u001b[39;49m\u001b[38;5;124;43m\"\u001b[39;49m\u001b[43m)\u001b[49m\n\u001b[0;32m    477\u001b[0m \u001b[38;5;28;01mif\u001b[39;00m k \u001b[38;5;129;01mis\u001b[39;00m \u001b[38;5;28;01mNone\u001b[39;00m \u001b[38;5;129;01mand\u001b[39;00m fixed \u001b[38;5;129;01mis\u001b[39;00m \u001b[38;5;129;01mnot\u001b[39;00m \u001b[38;5;28;01mNone\u001b[39;00m:\n\u001b[0;32m    478\u001b[0m     \u001b[38;5;66;03m# We must adjust k by domain size for layouts not near 1x1\u001b[39;00m\n\u001b[0;32m    479\u001b[0m     nnodes, _ \u001b[38;5;241m=\u001b[39m A\u001b[38;5;241m.\u001b[39mshape\n",
      "File \u001b[1;32mC:\\Anaconda\\lib\\site-packages\\networkx\\convert_matrix.py:921\u001b[0m, in \u001b[0;36mto_scipy_sparse_array\u001b[1;34m(G, nodelist, dtype, weight, format)\u001b[0m\n\u001b[0;32m    919\u001b[0m         r \u001b[38;5;241m+\u001b[39m\u001b[38;5;241m=\u001b[39m diag_index\n\u001b[0;32m    920\u001b[0m         c \u001b[38;5;241m+\u001b[39m\u001b[38;5;241m=\u001b[39m diag_index\n\u001b[1;32m--> 921\u001b[0m     A \u001b[38;5;241m=\u001b[39m \u001b[43msp\u001b[49m\u001b[38;5;241;43m.\u001b[39;49m\u001b[43msparse\u001b[49m\u001b[38;5;241;43m.\u001b[39;49m\u001b[43mcoo_array\u001b[49m((d, (r, c)), shape\u001b[38;5;241m=\u001b[39m(nlen, nlen), dtype\u001b[38;5;241m=\u001b[39mdtype)\n\u001b[0;32m    922\u001b[0m \u001b[38;5;28;01mtry\u001b[39;00m:\n\u001b[0;32m    923\u001b[0m     \u001b[38;5;28;01mreturn\u001b[39;00m A\u001b[38;5;241m.\u001b[39masformat(\u001b[38;5;28mformat\u001b[39m)\n",
      "\u001b[1;31mAttributeError\u001b[0m: module 'scipy.sparse' has no attribute 'coo_array'"
     ]
    }
   ],
   "source": [
    "pos = nx.spring_layout(co_occurence_graph)\n",
    "nx.draw(co_occurence_graph, pos, with_labels = True, font_weight = 'bold')\n",
    "plt.show()"
   ]
  },
  {
   "cell_type": "code",
   "execution_count": null,
   "id": "1d36b8b2",
   "metadata": {},
   "outputs": [],
   "source": []
  }
 ],
 "metadata": {
  "kernelspec": {
   "display_name": "Python 3 (ipykernel)",
   "language": "python",
   "name": "python3"
  },
  "language_info": {
   "codemirror_mode": {
    "name": "ipython",
    "version": 3
   },
   "file_extension": ".py",
   "mimetype": "text/x-python",
   "name": "python",
   "nbconvert_exporter": "python",
   "pygments_lexer": "ipython3",
   "version": "3.9.12"
  }
 },
 "nbformat": 4,
 "nbformat_minor": 5
}
