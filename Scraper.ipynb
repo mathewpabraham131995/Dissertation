{
 "cells": [
  {
   "cell_type": "code",
   "execution_count": 1,
   "id": "b74db4c4",
   "metadata": {},
   "outputs": [
    {
     "name": "stdout",
     "output_type": "stream",
     "text": [
      "\n",
      "Note: you may need to restart the kernel to use updated packages.\n"
     ]
    }
   ],
   "source": [
    "!pip install git"
   ]
  },
  {
   "cell_type": "code",
   "execution_count": 4,
   "id": "62a3dc6b",
   "metadata": {},
   "outputs": [
    {
     "name": "stdout",
     "output_type": "stream",
     "text": [
      "Collecting git+https://github.com/JustAnotherArchivist/snscrape.git\n",
      "  Cloning https://github.com/JustAnotherArchivist/snscrape.git to c:\\users\\lip22mpa\\appdata\\local\\temp\\pip-req-build-fwpd328b\n",
      "  Resolved https://github.com/JustAnotherArchivist/snscrape.git to commit 1b726aede262c649d7165843a0d16116f02ec929\n",
      "  Installing build dependencies: started\n",
      "  Installing build dependencies: finished with status 'done'\n",
      "  Getting requirements to build wheel: started\n",
      "  Getting requirements to build wheel: finished with status 'done'\n",
      "  Installing backend dependencies: started\n",
      "  Installing backend dependencies: finished with status 'done'\n",
      "    Preparing wheel metadata: started\n",
      "    Preparing wheel metadata: finished with status 'done'\n",
      "Requirement already satisfied: lxml in c:\\anaconda\\lib\\site-packages (from snscrape==0.6.2.20230321.dev38+g1b726ae) (4.8.0)\n",
      "Requirement already satisfied: beautifulsoup4 in c:\\anaconda\\lib\\site-packages (from snscrape==0.6.2.20230321.dev38+g1b726ae) (4.11.1)\n",
      "Requirement already satisfied: requests[socks] in c:\\anaconda\\lib\\site-packages (from snscrape==0.6.2.20230321.dev38+g1b726ae) (2.27.1)\n",
      "Requirement already satisfied: filelock in c:\\anaconda\\lib\\site-packages (from snscrape==0.6.2.20230321.dev38+g1b726ae) (3.6.0)\n",
      "Requirement already satisfied: soupsieve>1.2 in c:\\anaconda\\lib\\site-packages (from beautifulsoup4->snscrape==0.6.2.20230321.dev38+g1b726ae) (2.3.1)\n",
      "Requirement already satisfied: charset-normalizer~=2.0.0 in c:\\anaconda\\lib\\site-packages (from requests[socks]->snscrape==0.6.2.20230321.dev38+g1b726ae) (2.0.4)\n",
      "Requirement already satisfied: idna<4,>=2.5 in c:\\anaconda\\lib\\site-packages (from requests[socks]->snscrape==0.6.2.20230321.dev38+g1b726ae) (3.3)\n",
      "Requirement already satisfied: urllib3<1.27,>=1.21.1 in c:\\anaconda\\lib\\site-packages (from requests[socks]->snscrape==0.6.2.20230321.dev38+g1b726ae) (1.26.9)\n",
      "Requirement already satisfied: certifi>=2017.4.17 in c:\\anaconda\\lib\\site-packages (from requests[socks]->snscrape==0.6.2.20230321.dev38+g1b726ae) (2021.10.8)\n",
      "Requirement already satisfied: PySocks!=1.5.7,>=1.5.6 in c:\\anaconda\\lib\\site-packages (from requests[socks]->snscrape==0.6.2.20230321.dev38+g1b726ae) (1.7.1)\n"
     ]
    },
    {
     "name": "stderr",
     "output_type": "stream",
     "text": [
      "  Running command git clone -q https://github.com/JustAnotherArchivist/snscrape.git 'C:\\Users\\lip22mpa\\AppData\\Local\\Temp\\pip-req-build-fwpd328b'\n"
     ]
    }
   ],
   "source": [
    "!pip install git+https://github.com/JustAnotherArchivist/snscrape.git"
   ]
  },
  {
   "cell_type": "code",
   "execution_count": 2,
   "id": "c2a97050",
   "metadata": {},
   "outputs": [],
   "source": [
    "import snscrape.modules.twitter as sntwitter\n"
   ]
  },
  {
   "cell_type": "code",
   "execution_count": 8,
   "id": "005e7f21",
   "metadata": {},
   "outputs": [
    {
     "name": "stdout",
     "output_type": "stream",
     "text": [
      "Requirement already satisfied: pandas in c:\\anaconda\\lib\\site-packages (1.4.2)\n",
      "Requirement already satisfied: numpy>=1.18.5 in c:\\anaconda\\lib\\site-packages (from pandas) (1.21.5)\n",
      "Requirement already satisfied: pytz>=2020.1 in c:\\anaconda\\lib\\site-packages (from pandas) (2021.3)\n",
      "Requirement already satisfied: python-dateutil>=2.8.1 in c:\\anaconda\\lib\\site-packages (from pandas) (2.8.2)\n",
      "Requirement already satisfied: six>=1.5 in c:\\anaconda\\lib\\site-packages (from python-dateutil>=2.8.1->pandas) (1.16.0)\n"
     ]
    }
   ],
   "source": [
    "!pip install pandas"
   ]
  },
  {
   "cell_type": "code",
   "execution_count": 4,
   "id": "99021c25",
   "metadata": {},
   "outputs": [],
   "source": [
    "import pandas as pd"
   ]
  },
  {
   "cell_type": "code",
   "execution_count": 3,
   "id": "c9b708c3",
   "metadata": {},
   "outputs": [],
   "source": [
    "maxTweets = 100\n"
   ]
  },
  {
   "cell_type": "code",
   "execution_count": 6,
   "id": "9fe03ea5",
   "metadata": {},
   "outputs": [],
   "source": [
    "tweets_list1 = []\n",
    "\n",
    "# Using TwitterSearchScraper to scrape data \n",
    "for i,tweet in enumerate(sntwitter.TwitterSearchScraper('from:jack').get_items()):\n",
    "    if i>maxTweets:\n",
    "        break\n",
    "    tweets_list1.append([tweet.date, tweet.id, tweet.rawContent, tweet.user.username])"
   ]
  },
  {
   "cell_type": "code",
   "execution_count": 7,
   "id": "461f710f",
   "metadata": {},
   "outputs": [],
   "source": [
    "tweets_df1 = pd.DataFrame(tweets_list1, columns=['Datetime', 'Tweet Id', 'Text', 'Username'])"
   ]
  },
  {
   "cell_type": "code",
   "execution_count": 8,
   "id": "930f081f",
   "metadata": {},
   "outputs": [
    {
     "data": {
      "text/html": [
       "<div>\n",
       "<style scoped>\n",
       "    .dataframe tbody tr th:only-of-type {\n",
       "        vertical-align: middle;\n",
       "    }\n",
       "\n",
       "    .dataframe tbody tr th {\n",
       "        vertical-align: top;\n",
       "    }\n",
       "\n",
       "    .dataframe thead th {\n",
       "        text-align: right;\n",
       "    }\n",
       "</style>\n",
       "<table border=\"1\" class=\"dataframe\">\n",
       "  <thead>\n",
       "    <tr style=\"text-align: right;\">\n",
       "      <th></th>\n",
       "      <th>Datetime</th>\n",
       "      <th>Tweet Id</th>\n",
       "      <th>Text</th>\n",
       "      <th>Username</th>\n",
       "    </tr>\n",
       "  </thead>\n",
       "  <tbody>\n",
       "    <tr>\n",
       "      <th>0</th>\n",
       "      <td>2023-06-06 21:02:14+00:00</td>\n",
       "      <td>1666188772642283526</td>\n",
       "      <td>@udiWertheimer @coinjunky Point out where I sa...</td>\n",
       "      <td>jack</td>\n",
       "    </tr>\n",
       "    <tr>\n",
       "      <th>1</th>\n",
       "      <td>2023-06-06 21:00:57+00:00</td>\n",
       "      <td>1666188451270492160</td>\n",
       "      <td>@udiWertheimer ETH is not a security? Teach me...</td>\n",
       "      <td>jack</td>\n",
       "    </tr>\n",
       "    <tr>\n",
       "      <th>2</th>\n",
       "      <td>2023-06-06 20:03:52+00:00</td>\n",
       "      <td>1666174086802812930</td>\n",
       "      <td>@HodlMagoo All I see is them moving to AI</td>\n",
       "      <td>jack</td>\n",
       "    </tr>\n",
       "    <tr>\n",
       "      <th>3</th>\n",
       "      <td>2023-06-06 20:00:38+00:00</td>\n",
       "      <td>1666173272482893825</td>\n",
       "      <td>@Leishman 🫂</td>\n",
       "      <td>jack</td>\n",
       "    </tr>\n",
       "    <tr>\n",
       "      <th>4</th>\n",
       "      <td>2023-06-06 19:57:31+00:00</td>\n",
       "      <td>1666172485581012992</td>\n",
       "      <td>@BTCillustrated sacred geometry ✨</td>\n",
       "      <td>jack</td>\n",
       "    </tr>\n",
       "  </tbody>\n",
       "</table>\n",
       "</div>"
      ],
      "text/plain": [
       "                   Datetime             Tweet Id  \\\n",
       "0 2023-06-06 21:02:14+00:00  1666188772642283526   \n",
       "1 2023-06-06 21:00:57+00:00  1666188451270492160   \n",
       "2 2023-06-06 20:03:52+00:00  1666174086802812930   \n",
       "3 2023-06-06 20:00:38+00:00  1666173272482893825   \n",
       "4 2023-06-06 19:57:31+00:00  1666172485581012992   \n",
       "\n",
       "                                                Text Username  \n",
       "0  @udiWertheimer @coinjunky Point out where I sa...     jack  \n",
       "1  @udiWertheimer ETH is not a security? Teach me...     jack  \n",
       "2          @HodlMagoo All I see is them moving to AI     jack  \n",
       "3                                        @Leishman 🫂     jack  \n",
       "4                  @BTCillustrated sacred geometry ✨     jack  "
      ]
     },
     "execution_count": 8,
     "metadata": {},
     "output_type": "execute_result"
    }
   ],
   "source": [
    "tweets_df1.head()"
   ]
  },
  {
   "cell_type": "code",
   "execution_count": null,
   "id": "6f3cd317",
   "metadata": {},
   "outputs": [],
   "source": []
  }
 ],
 "metadata": {
  "kernelspec": {
   "display_name": "Python 3 (ipykernel)",
   "language": "python",
   "name": "python3"
  },
  "language_info": {
   "codemirror_mode": {
    "name": "ipython",
    "version": 3
   },
   "file_extension": ".py",
   "mimetype": "text/x-python",
   "name": "python",
   "nbconvert_exporter": "python",
   "pygments_lexer": "ipython3",
   "version": "3.9.12"
  }
 },
 "nbformat": 4,
 "nbformat_minor": 5
}
