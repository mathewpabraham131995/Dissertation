{
 "cells": [
  {
   "cell_type": "code",
   "execution_count": 1,
   "id": "40459799",
   "metadata": {},
   "outputs": [
    {
     "name": "stdout",
     "output_type": "stream",
     "text": [
      "Collecting git+https://github.com/JustAnotherArchivist/snscrape.git\n",
      "  Cloning https://github.com/JustAnotherArchivist/snscrape.git to c:\\users\\lip22mpa\\appdata\\local\\temp\\pip-req-build-mbhalwe0\n",
      "  Resolved https://github.com/JustAnotherArchivist/snscrape.git to commit 614d4c2029a62d348ca56598f87c425966aaec66\n",
      "  Installing build dependencies: started\n",
      "  Installing build dependencies: finished with status 'done'\n",
      "  Getting requirements to build wheel: started\n",
      "  Getting requirements to build wheel: finished with status 'done'\n",
      "  Installing backend dependencies: started\n",
      "  Installing backend dependencies: finished with status 'done'\n",
      "    Preparing wheel metadata: started\n",
      "    Preparing wheel metadata: finished with status 'done'\n",
      "Requirement already satisfied: lxml in c:\\anaconda\\lib\\site-packages (from snscrape==0.7.0.20230622) (4.8.0)\n",
      "Requirement already satisfied: beautifulsoup4 in c:\\anaconda\\lib\\site-packages (from snscrape==0.7.0.20230622) (4.11.1)\n",
      "Requirement already satisfied: requests[socks] in c:\\anaconda\\lib\\site-packages (from snscrape==0.7.0.20230622) (2.27.1)\n",
      "Requirement already satisfied: filelock in c:\\anaconda\\lib\\site-packages (from snscrape==0.7.0.20230622) (3.6.0)\n",
      "Requirement already satisfied: soupsieve>1.2 in c:\\anaconda\\lib\\site-packages (from beautifulsoup4->snscrape==0.7.0.20230622) (2.3.1)\n",
      "Requirement already satisfied: charset-normalizer~=2.0.0 in c:\\anaconda\\lib\\site-packages (from requests[socks]->snscrape==0.7.0.20230622) (2.0.4)\n",
      "Requirement already satisfied: urllib3<1.27,>=1.21.1 in c:\\anaconda\\lib\\site-packages (from requests[socks]->snscrape==0.7.0.20230622) (1.26.9)\n",
      "Requirement already satisfied: idna<4,>=2.5 in \\\\studata05\\home\\li\\lip22mpa\\python39\\site-packages (from requests[socks]->snscrape==0.7.0.20230622) (2.10)\n"
     ]
    },
    {
     "name": "stderr",
     "output_type": "stream",
     "text": [
      "  Running command git clone -q https://github.com/JustAnotherArchivist/snscrape.git 'C:\\Users\\lip22mpa\\AppData\\Local\\Temp\\pip-req-build-mbhalwe0'\n",
      "  WARNING: The script snscrape.exe is installed in 'U:\\Python39\\Scripts' which is not on PATH.\n",
      "  Consider adding this directory to PATH or, if you prefer to suppress this warning, use --no-warn-script-location.\n"
     ]
    },
    {
     "name": "stdout",
     "output_type": "stream",
     "text": [
      "Requirement already satisfied: certifi>=2017.4.17 in c:\\anaconda\\lib\\site-packages (from requests[socks]->snscrape==0.7.0.20230622) (2021.10.8)\n",
      "Requirement already satisfied: PySocks!=1.5.7,>=1.5.6 in c:\\anaconda\\lib\\site-packages (from requests[socks]->snscrape==0.7.0.20230622) (1.7.1)\n",
      "Building wheels for collected packages: snscrape\n",
      "  Building wheel for snscrape (PEP 517): started\n",
      "  Building wheel for snscrape (PEP 517): finished with status 'done'\n",
      "  Created wheel for snscrape: filename=snscrape-0.7.0.20230622-py3-none-any.whl size=75348 sha256=30f1af6772536bfec370324fb99132af1a219f4297f0385db27515f43c020c27\n",
      "  Stored in directory: C:\\Users\\lip22mpa\\AppData\\Local\\Temp\\pip-ephem-wheel-cache-wm6pu45s\\wheels\\1a\\ba\\e2\\39fa3a11802c4a622f2efc8be3f5ff854481051d0b4c95c1fd\n",
      "Successfully built snscrape\n",
      "Installing collected packages: snscrape\n",
      "  Attempting uninstall: snscrape\n",
      "    Found existing installation: snscrape 0.6.2.20230321.dev50+g0d824ab\n",
      "    Uninstalling snscrape-0.6.2.20230321.dev50+g0d824ab:\n",
      "      Successfully uninstalled snscrape-0.6.2.20230321.dev50+g0d824ab\n",
      "Successfully installed snscrape-0.7.0.20230622\n"
     ]
    }
   ],
   "source": [
    "!pip install git+https://github.com/JustAnotherArchivist/snscrape.git"
   ]
  },
  {
   "cell_type": "code",
   "execution_count": 2,
   "id": "ab7531bf",
   "metadata": {},
   "outputs": [],
   "source": [
    "import snscrape.modules.twitter as sntwitter\n",
    "import pandas as pd"
   ]
  },
  {
   "cell_type": "code",
   "execution_count": 12,
   "id": "0db413fd",
   "metadata": {},
   "outputs": [],
   "source": [
    "def tweets_for_hashtag(hashtag,since,upto,filelocation,maxtweets):\n",
    "    maxTweets = maxtweets\n",
    "    tweets_list = []\n",
    "\n",
    "# Using TwitterSearchScraper to scrape data and append tweets to list\n",
    "    for i,tweet in enumerate(sntwitter.TwitterSearchScraper('({0}) since:{1} until:{2}'.format(hashtag,since,upto)).get_items()):\n",
    "        if i>maxTweets:\n",
    "            break\n",
    "        tweets_list.append([tweet.date, tweet.id, tweet.rawContent, \n",
    "                            tweet.user.username,tweet.retweetCount,tweet.likeCount,tweet.quoteCount,tweet.coordinates,\n",
    "                            tweet.mentionedUsers,tweet.retweetedTweet,tweet.hashtags,tweet.viewCount])\n",
    "    tweets_df = pd.DataFrame(tweets_list, columns=['Datetime', 'Tweet Id', 'Text', 'Username','retweetCount',\n",
    "                                                   'likeCount','quoteCount','coordinates','mentionedUsers',\n",
    "                                                   'retweetedTweet','hashtags','viewCount'])\n",
    "    tweets_df.to_csv(filelocation, sep=',', index=False)\n",
    "\n",
    "    return tweets_df"
   ]
  },
  {
   "cell_type": "code",
   "execution_count": 87,
   "id": "4d67a824",
   "metadata": {},
   "outputs": [
    {
     "name": "stderr",
     "output_type": "stream",
     "text": [
      "Stopping after 20 empty pages\n"
     ]
    }
   ],
   "source": [
    "IndiaSupportsTheKeralaStory = tweets_for_hashtag('#IndiaSupportsTheKeralaStory','2023-05-11','2023-05-11', \n",
    "                                                 'IndiaSupportsTheKeralaStory/May10.csv',500000)"
   ]
  },
  {
   "cell_type": "code",
   "execution_count": 86,
   "id": "47ac1a60",
   "metadata": {},
   "outputs": [
    {
     "data": {
      "text/plain": [
       "(17, 12)"
      ]
     },
     "execution_count": 86,
     "metadata": {},
     "output_type": "execute_result"
    }
   ],
   "source": [
    "IndiaSupportsTheKeralaStory.shape"
   ]
  },
  {
   "cell_type": "code",
   "execution_count": 8,
   "id": "239ac12b",
   "metadata": {},
   "outputs": [
    {
     "data": {
      "text/html": [
       "<div>\n",
       "<style scoped>\n",
       "    .dataframe tbody tr th:only-of-type {\n",
       "        vertical-align: middle;\n",
       "    }\n",
       "\n",
       "    .dataframe tbody tr th {\n",
       "        vertical-align: top;\n",
       "    }\n",
       "\n",
       "    .dataframe thead th {\n",
       "        text-align: right;\n",
       "    }\n",
       "</style>\n",
       "<table border=\"1\" class=\"dataframe\">\n",
       "  <thead>\n",
       "    <tr style=\"text-align: right;\">\n",
       "      <th></th>\n",
       "      <th>Datetime</th>\n",
       "      <th>Tweet Id</th>\n",
       "      <th>Text</th>\n",
       "      <th>Username</th>\n",
       "      <th>retweetCount</th>\n",
       "      <th>likeCount</th>\n",
       "      <th>quoteCount</th>\n",
       "      <th>coordinates</th>\n",
       "      <th>mentionedUsers</th>\n",
       "      <th>retweetedTweet</th>\n",
       "      <th>hashtags</th>\n",
       "      <th>viewCount</th>\n",
       "    </tr>\n",
       "  </thead>\n",
       "  <tbody>\n",
       "    <tr>\n",
       "      <th>2579</th>\n",
       "      <td>2023-05-08 00:21:22+00:00</td>\n",
       "      <td>1655367252668198914</td>\n",
       "      <td>#TheKeralaStoryAMustWatch \\n#TheKerlaStory Mus...</td>\n",
       "      <td>Socialslack</td>\n",
       "      <td>0</td>\n",
       "      <td>16</td>\n",
       "      <td>0</td>\n",
       "      <td>None</td>\n",
       "      <td>None</td>\n",
       "      <td>None</td>\n",
       "      <td>[TheKeralaStoryAMustWatch, TheKerlaStory]</td>\n",
       "      <td>3610.0</td>\n",
       "    </tr>\n",
       "    <tr>\n",
       "      <th>2580</th>\n",
       "      <td>2023-05-08 00:11:23+00:00</td>\n",
       "      <td>1655364738237485056</td>\n",
       "      <td>@TanyaGhosh2312 The 54th #InternationalFilmFes...</td>\n",
       "      <td>rajeevshalimar</td>\n",
       "      <td>0</td>\n",
       "      <td>2</td>\n",
       "      <td>1</td>\n",
       "      <td>None</td>\n",
       "      <td>[https://twitter.com/TanyaGhosh2312, https://t...</td>\n",
       "      <td>None</td>\n",
       "      <td>[InternationalFilmFestivalOfIndia, TheKerlaSto...</td>\n",
       "      <td>103.0</td>\n",
       "    </tr>\n",
       "    <tr>\n",
       "      <th>2581</th>\n",
       "      <td>2023-05-08 00:10:08+00:00</td>\n",
       "      <td>1655364424863973376</td>\n",
       "      <td>How many of the converted women in Kerala are ...</td>\n",
       "      <td>MrEyeOpener007</td>\n",
       "      <td>0</td>\n",
       "      <td>0</td>\n",
       "      <td>0</td>\n",
       "      <td>None</td>\n",
       "      <td>None</td>\n",
       "      <td>None</td>\n",
       "      <td>[TheKerlaStory]</td>\n",
       "      <td>46.0</td>\n",
       "    </tr>\n",
       "    <tr>\n",
       "      <th>2582</th>\n",
       "      <td>2023-05-08 00:03:03+00:00</td>\n",
       "      <td>1655362642817728512</td>\n",
       "      <td>@orgasamist ചെയ്യു സുഹൃത്തേ, പിന്നെ വാര്യകുന്ന...</td>\n",
       "      <td>SajithPallath</td>\n",
       "      <td>0</td>\n",
       "      <td>0</td>\n",
       "      <td>0</td>\n",
       "      <td>None</td>\n",
       "      <td>[https://twitter.com/orgasamist]</td>\n",
       "      <td>None</td>\n",
       "      <td>[TheKerlaStory]</td>\n",
       "      <td>74.0</td>\n",
       "    </tr>\n",
       "    <tr>\n",
       "      <th>2583</th>\n",
       "      <td>2023-05-08 00:02:54+00:00</td>\n",
       "      <td>1655362601797455873</td>\n",
       "      <td>#KeralaStory #TheKerlaStory \\nIt's not just th...</td>\n",
       "      <td>AngkorWot</td>\n",
       "      <td>2</td>\n",
       "      <td>2</td>\n",
       "      <td>0</td>\n",
       "      <td>None</td>\n",
       "      <td>None</td>\n",
       "      <td>None</td>\n",
       "      <td>[KeralaStory, TheKerlaStory]</td>\n",
       "      <td>253.0</td>\n",
       "    </tr>\n",
       "  </tbody>\n",
       "</table>\n",
       "</div>"
      ],
      "text/plain": [
       "                      Datetime             Tweet Id  \\\n",
       "2579 2023-05-08 00:21:22+00:00  1655367252668198914   \n",
       "2580 2023-05-08 00:11:23+00:00  1655364738237485056   \n",
       "2581 2023-05-08 00:10:08+00:00  1655364424863973376   \n",
       "2582 2023-05-08 00:03:03+00:00  1655362642817728512   \n",
       "2583 2023-05-08 00:02:54+00:00  1655362601797455873   \n",
       "\n",
       "                                                   Text        Username  \\\n",
       "2579  #TheKeralaStoryAMustWatch \\n#TheKerlaStory Mus...     Socialslack   \n",
       "2580  @TanyaGhosh2312 The 54th #InternationalFilmFes...  rajeevshalimar   \n",
       "2581  How many of the converted women in Kerala are ...  MrEyeOpener007   \n",
       "2582  @orgasamist ചെയ്യു സുഹൃത്തേ, പിന്നെ വാര്യകുന്ന...   SajithPallath   \n",
       "2583  #KeralaStory #TheKerlaStory \\nIt's not just th...       AngkorWot   \n",
       "\n",
       "      retweetCount  likeCount  quoteCount coordinates  \\\n",
       "2579             0         16           0        None   \n",
       "2580             0          2           1        None   \n",
       "2581             0          0           0        None   \n",
       "2582             0          0           0        None   \n",
       "2583             2          2           0        None   \n",
       "\n",
       "                                         mentionedUsers retweetedTweet  \\\n",
       "2579                                               None           None   \n",
       "2580  [https://twitter.com/TanyaGhosh2312, https://t...           None   \n",
       "2581                                               None           None   \n",
       "2582                   [https://twitter.com/orgasamist]           None   \n",
       "2583                                               None           None   \n",
       "\n",
       "                                               hashtags  viewCount  \n",
       "2579          [TheKeralaStoryAMustWatch, TheKerlaStory]     3610.0  \n",
       "2580  [InternationalFilmFestivalOfIndia, TheKerlaSto...      103.0  \n",
       "2581                                    [TheKerlaStory]       46.0  \n",
       "2582                                    [TheKerlaStory]       74.0  \n",
       "2583                       [KeralaStory, TheKerlaStory]      253.0  "
      ]
     },
     "execution_count": 8,
     "metadata": {},
     "output_type": "execute_result"
    }
   ],
   "source": [
    "TheKerlaStory.tail(5)"
   ]
  },
  {
   "cell_type": "code",
   "execution_count": 11,
   "id": "1a8c095f",
   "metadata": {},
   "outputs": [],
   "source": [
    "TheKerlaStory.to_csv('TheKeralaStory/May8.csv', sep=',', index=False)\n"
   ]
  },
  {
   "cell_type": "code",
   "execution_count": 24,
   "id": "3025cf97",
   "metadata": {},
   "outputs": [
    {
     "ename": "IndentationError",
     "evalue": "unindent does not match any outer indentation level (<tokenize>, line 7)",
     "output_type": "error",
     "traceback": [
      "\u001b[1;36m  File \u001b[1;32m<tokenize>:7\u001b[1;36m\u001b[0m\n\u001b[1;33m    tweets_df = pd.DataFrame(tweets_list, columns=['Datetime', 'Tweet Id', 'Text', 'Username','retweetCount',\u001b[0m\n\u001b[1;37m    ^\u001b[0m\n\u001b[1;31mIndentationError\u001b[0m\u001b[1;31m:\u001b[0m unindent does not match any outer indentation level\n"
     ]
    }
   ],
   "source": []
  },
  {
   "cell_type": "code",
   "execution_count": null,
   "id": "630a31ea",
   "metadata": {},
   "outputs": [],
   "source": []
  }
 ],
 "metadata": {
  "kernelspec": {
   "display_name": "Python 3 (ipykernel)",
   "language": "python",
   "name": "python3"
  },
  "language_info": {
   "codemirror_mode": {
    "name": "ipython",
    "version": 3
   },
   "file_extension": ".py",
   "mimetype": "text/x-python",
   "name": "python",
   "nbconvert_exporter": "python",
   "pygments_lexer": "ipython3",
   "version": "3.9.12"
  }
 },
 "nbformat": 4,
 "nbformat_minor": 5
}
