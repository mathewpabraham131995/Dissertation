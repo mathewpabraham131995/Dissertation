{
 "cells": [
  {
   "cell_type": "code",
   "execution_count": 1,
   "id": "a4393435",
   "metadata": {},
   "outputs": [],
   "source": [
    "from IPython import get_ipython"
   ]
  },
  {
   "cell_type": "code",
   "execution_count": 5,
   "id": "126f5f9e",
   "metadata": {},
   "outputs": [],
   "source": [
    "from IPython.terminal.interactiveshell import TerminalInteractiveShell\n",
    "\n",
    "#shell = TerminalInteractiveShell.instance()\n",
    "#shell.define_macro('foo', \"\"\"a,b=10,20\"\"\")\n",
    "#ipy.embed(display_banner=False)"
   ]
  },
  {
   "cell_type": "code",
   "execution_count": 1,
   "id": "4c631be9",
   "metadata": {},
   "outputs": [
    {
     "name": "stdout",
     "output_type": "stream",
     "text": [
      "Requirement already satisfied: googletrans==4.0.0-rc1 in \\\\studata05\\home\\li\\lip22mpa\\python39\\site-packages (4.0.0rc1)\n",
      "Requirement already satisfied: httpx==0.13.3 in \\\\studata05\\home\\li\\lip22mpa\\python39\\site-packages (from googletrans==4.0.0-rc1) (0.13.3)\n",
      "Requirement already satisfied: httpcore==0.9.* in \\\\studata05\\home\\li\\lip22mpa\\python39\\site-packages (from httpx==0.13.3->googletrans==4.0.0-rc1) (0.9.1)\n",
      "Requirement already satisfied: sniffio in c:\\anaconda\\lib\\site-packages (from httpx==0.13.3->googletrans==4.0.0-rc1) (1.2.0)\n",
      "Requirement already satisfied: idna==2.* in \\\\studata05\\home\\li\\lip22mpa\\python39\\site-packages (from httpx==0.13.3->googletrans==4.0.0-rc1) (2.10)\n",
      "Requirement already satisfied: certifi in c:\\anaconda\\lib\\site-packages (from httpx==0.13.3->googletrans==4.0.0-rc1) (2021.10.8)\n",
      "Requirement already satisfied: chardet==3.* in \\\\studata05\\home\\li\\lip22mpa\\python39\\site-packages (from httpx==0.13.3->googletrans==4.0.0-rc1) (3.0.4)\n",
      "Requirement already satisfied: hstspreload in \\\\studata05\\home\\li\\lip22mpa\\python39\\site-packages (from httpx==0.13.3->googletrans==4.0.0-rc1) (2023.1.1)\n",
      "Requirement already satisfied: rfc3986<2,>=1.3 in \\\\studata05\\home\\li\\lip22mpa\\python39\\site-packages (from httpx==0.13.3->googletrans==4.0.0-rc1) (1.5.0)\n",
      "Requirement already satisfied: h2==3.* in \\\\studata05\\home\\li\\lip22mpa\\python39\\site-packages (from httpcore==0.9.*->httpx==0.13.3->googletrans==4.0.0-rc1) (3.2.0)\n",
      "Requirement already satisfied: h11<0.10,>=0.8 in \\\\studata05\\home\\li\\lip22mpa\\python39\\site-packages (from httpcore==0.9.*->httpx==0.13.3->googletrans==4.0.0-rc1) (0.9.0)\n",
      "Requirement already satisfied: hyperframe<6,>=5.2.0 in \\\\studata05\\home\\li\\lip22mpa\\python39\\site-packages (from h2==3.*->httpcore==0.9.*->httpx==0.13.3->googletrans==4.0.0-rc1) (5.2.0)\n",
      "Requirement already satisfied: hpack<4,>=3.0 in \\\\studata05\\home\\li\\lip22mpa\\python39\\site-packages (from h2==3.*->httpcore==0.9.*->httpx==0.13.3->googletrans==4.0.0-rc1) (3.0.0)\n",
      "Note: you may need to restart the kernel to use updated packages.\n"
     ]
    }
   ],
   "source": [
    "!pip install googletrans==4.0.0-rc1"
   ]
  },
  {
   "cell_type": "code",
   "execution_count": 1,
   "id": "c4853e7c",
   "metadata": {},
   "outputs": [],
   "source": [
    "from googletrans import Translator"
   ]
  },
  {
   "cell_type": "code",
   "execution_count": 3,
   "id": "64056e08",
   "metadata": {},
   "outputs": [],
   "source": [
    "def mapper(text):\n",
    "    translations = {}\n",
    "    i=0\n",
    "    for element in text:\n",
    "        translations[element] = translator.translate(element).text\n",
    "        i = i+1\n",
    "        print(i)\n",
    "    return translations"
   ]
  },
  {
   "cell_type": "code",
   "execution_count": null,
   "id": "0ef825ba",
   "metadata": {},
   "outputs": [],
   "source": []
  }
 ],
 "metadata": {
  "kernelspec": {
   "display_name": "Python 3 (ipykernel)",
   "language": "python",
   "name": "python3"
  },
  "language_info": {
   "codemirror_mode": {
    "name": "ipython",
    "version": 3
   },
   "file_extension": ".py",
   "mimetype": "text/x-python",
   "name": "python",
   "nbconvert_exporter": "python",
   "pygments_lexer": "ipython3",
   "version": "3.9.12"
  }
 },
 "nbformat": 4,
 "nbformat_minor": 5
}
